{
 "cells": [
  {
   "cell_type": "code",
   "execution_count": 4,
   "metadata": {},
   "outputs": [
    {
     "data": {
      "text/plain": [
       "pyspark.sql.dataframe.DataFrame"
      ]
     },
     "execution_count": 4,
     "metadata": {},
     "output_type": "execute_result"
    }
   ],
   "source": [
    "ordersDF = spark.read.csv(\"/Users/shreyas_rl/Desktop/git/itversity-data/retail_db/orders\")\n",
    "type(ordersDF)"
   ]
  },
  {
   "cell_type": "code",
   "execution_count": 7,
   "metadata": {},
   "outputs": [
    {
     "name": "stdout",
     "output_type": "stream",
     "text": [
      "root\n",
      " |-- _c0: string (nullable = true)\n",
      " |-- _c1: string (nullable = true)\n",
      " |-- _c2: string (nullable = true)\n",
      " |-- _c3: string (nullable = true)\n",
      "\n"
     ]
    }
   ],
   "source": [
    "ordersDF.printSchema()"
   ]
  },
  {
   "cell_type": "code",
   "execution_count": 8,
   "metadata": {},
   "outputs": [
    {
     "name": "stdout",
     "output_type": "stream",
     "text": [
      "+---+--------------------+-----+---------------+\n",
      "|_c0|                 _c1|  _c2|            _c3|\n",
      "+---+--------------------+-----+---------------+\n",
      "|  1|2013-07-25 00:00:...|11599|         CLOSED|\n",
      "|  2|2013-07-25 00:00:...|  256|PENDING_PAYMENT|\n",
      "|  3|2013-07-25 00:00:...|12111|       COMPLETE|\n",
      "|  4|2013-07-25 00:00:...| 8827|         CLOSED|\n",
      "|  5|2013-07-25 00:00:...|11318|       COMPLETE|\n",
      "|  6|2013-07-25 00:00:...| 7130|       COMPLETE|\n",
      "|  7|2013-07-25 00:00:...| 4530|       COMPLETE|\n",
      "|  8|2013-07-25 00:00:...| 2911|     PROCESSING|\n",
      "|  9|2013-07-25 00:00:...| 5657|PENDING_PAYMENT|\n",
      "| 10|2013-07-25 00:00:...| 5648|PENDING_PAYMENT|\n",
      "| 11|2013-07-25 00:00:...|  918| PAYMENT_REVIEW|\n",
      "| 12|2013-07-25 00:00:...| 1837|         CLOSED|\n",
      "| 13|2013-07-25 00:00:...| 9149|PENDING_PAYMENT|\n",
      "| 14|2013-07-25 00:00:...| 9842|     PROCESSING|\n",
      "| 15|2013-07-25 00:00:...| 2568|       COMPLETE|\n",
      "| 16|2013-07-25 00:00:...| 7276|PENDING_PAYMENT|\n",
      "| 17|2013-07-25 00:00:...| 2667|       COMPLETE|\n",
      "| 18|2013-07-25 00:00:...| 1205|         CLOSED|\n",
      "| 19|2013-07-25 00:00:...| 9488|PENDING_PAYMENT|\n",
      "| 20|2013-07-25 00:00:...| 9198|     PROCESSING|\n",
      "+---+--------------------+-----+---------------+\n",
      "only showing top 20 rows\n",
      "\n"
     ]
    }
   ],
   "source": [
    "ordersDF.show()"
   ]
  },
  {
   "cell_type": "code",
   "execution_count": 11,
   "metadata": {},
   "outputs": [
    {
     "name": "stdout",
     "output_type": "stream",
     "text": [
      "root\n",
      " |-- value: string (nullable = true)\n",
      "\n"
     ]
    }
   ],
   "source": [
    "ordersTextDf = spark.read.text(\"/Users/shreyas_rl/Desktop/git/itversity-data/retail_db/orders\")\n",
    "ordersTextDf.printSchema()"
   ]
  },
  {
   "cell_type": "code",
   "execution_count": 10,
   "metadata": {},
   "outputs": [
    {
     "name": "stdout",
     "output_type": "stream",
     "text": [
      "+--------------------+\n",
      "|               value|\n",
      "+--------------------+\n",
      "|1,2013-07-25 00:0...|\n",
      "|2,2013-07-25 00:0...|\n",
      "|3,2013-07-25 00:0...|\n",
      "|4,2013-07-25 00:0...|\n",
      "|5,2013-07-25 00:0...|\n",
      "|6,2013-07-25 00:0...|\n",
      "|7,2013-07-25 00:0...|\n",
      "|8,2013-07-25 00:0...|\n",
      "|9,2013-07-25 00:0...|\n",
      "|10,2013-07-25 00:...|\n",
      "|11,2013-07-25 00:...|\n",
      "|12,2013-07-25 00:...|\n",
      "|13,2013-07-25 00:...|\n",
      "|14,2013-07-25 00:...|\n",
      "|15,2013-07-25 00:...|\n",
      "|16,2013-07-25 00:...|\n",
      "|17,2013-07-25 00:...|\n",
      "|18,2013-07-25 00:...|\n",
      "|19,2013-07-25 00:...|\n",
      "|20,2013-07-25 00:...|\n",
      "+--------------------+\n",
      "only showing top 20 rows\n",
      "\n"
     ]
    }
   ],
   "source": [
    "ordersTextDf.show()"
   ]
  },
  {
   "cell_type": "code",
   "execution_count": 13,
   "metadata": {},
   "outputs": [
    {
     "name": "stdout",
     "output_type": "stream",
     "text": [
      "root\n",
      " |-- order_id: string (nullable = true)\n",
      " |-- order_date: string (nullable = true)\n",
      " |-- order_customerID: string (nullable = true)\n",
      " |-- order_status: string (nullable = true)\n",
      "\n"
     ]
    }
   ],
   "source": [
    "ordersDF = spark.read.csv(\"/Users/shreyas_rl/Desktop/git/itversity-data/retail_db/orders\").toDF('order_id','order_date','order_customerID','order_status')\n",
    "ordersDF.printSchema()"
   ]
  },
  {
   "cell_type": "code",
   "execution_count": 14,
   "metadata": {},
   "outputs": [
    {
     "name": "stdout",
     "output_type": "stream",
     "text": [
      "+--------+--------------------+----------------+---------------+\n",
      "|order_id|          order_date|order_customerID|   order_status|\n",
      "+--------+--------------------+----------------+---------------+\n",
      "|       1|2013-07-25 00:00:...|           11599|         CLOSED|\n",
      "|       2|2013-07-25 00:00:...|             256|PENDING_PAYMENT|\n",
      "|       3|2013-07-25 00:00:...|           12111|       COMPLETE|\n",
      "|       4|2013-07-25 00:00:...|            8827|         CLOSED|\n",
      "|       5|2013-07-25 00:00:...|           11318|       COMPLETE|\n",
      "|       6|2013-07-25 00:00:...|            7130|       COMPLETE|\n",
      "|       7|2013-07-25 00:00:...|            4530|       COMPLETE|\n",
      "|       8|2013-07-25 00:00:...|            2911|     PROCESSING|\n",
      "|       9|2013-07-25 00:00:...|            5657|PENDING_PAYMENT|\n",
      "|      10|2013-07-25 00:00:...|            5648|PENDING_PAYMENT|\n",
      "|      11|2013-07-25 00:00:...|             918| PAYMENT_REVIEW|\n",
      "|      12|2013-07-25 00:00:...|            1837|         CLOSED|\n",
      "|      13|2013-07-25 00:00:...|            9149|PENDING_PAYMENT|\n",
      "|      14|2013-07-25 00:00:...|            9842|     PROCESSING|\n",
      "|      15|2013-07-25 00:00:...|            2568|       COMPLETE|\n",
      "|      16|2013-07-25 00:00:...|            7276|PENDING_PAYMENT|\n",
      "|      17|2013-07-25 00:00:...|            2667|       COMPLETE|\n",
      "|      18|2013-07-25 00:00:...|            1205|         CLOSED|\n",
      "|      19|2013-07-25 00:00:...|            9488|PENDING_PAYMENT|\n",
      "|      20|2013-07-25 00:00:...|            9198|     PROCESSING|\n",
      "+--------+--------------------+----------------+---------------+\n",
      "only showing top 20 rows\n",
      "\n"
     ]
    }
   ],
   "source": [
    "ordersDF.show()"
   ]
  },
  {
   "cell_type": "code",
   "execution_count": 16,
   "metadata": {},
   "outputs": [
    {
     "name": "stdout",
     "output_type": "stream",
     "text": [
      "+--------+--------------------+\n",
      "|order_id|          order_date|\n",
      "+--------+--------------------+\n",
      "|       1|2013-07-25 00:00:...|\n",
      "|       2|2013-07-25 00:00:...|\n",
      "|       3|2013-07-25 00:00:...|\n",
      "|       4|2013-07-25 00:00:...|\n",
      "|       5|2013-07-25 00:00:...|\n",
      "|       6|2013-07-25 00:00:...|\n",
      "|       7|2013-07-25 00:00:...|\n",
      "|       8|2013-07-25 00:00:...|\n",
      "|       9|2013-07-25 00:00:...|\n",
      "|      10|2013-07-25 00:00:...|\n",
      "|      11|2013-07-25 00:00:...|\n",
      "|      12|2013-07-25 00:00:...|\n",
      "|      13|2013-07-25 00:00:...|\n",
      "|      14|2013-07-25 00:00:...|\n",
      "|      15|2013-07-25 00:00:...|\n",
      "|      16|2013-07-25 00:00:...|\n",
      "|      17|2013-07-25 00:00:...|\n",
      "|      18|2013-07-25 00:00:...|\n",
      "|      19|2013-07-25 00:00:...|\n",
      "|      20|2013-07-25 00:00:...|\n",
      "|      21|2013-07-25 00:00:...|\n",
      "|      22|2013-07-25 00:00:...|\n",
      "|      23|2013-07-25 00:00:...|\n",
      "|      24|2013-07-25 00:00:...|\n",
      "|      25|2013-07-25 00:00:...|\n",
      "|      26|2013-07-25 00:00:...|\n",
      "|      27|2013-07-25 00:00:...|\n",
      "|      28|2013-07-25 00:00:...|\n",
      "|      29|2013-07-25 00:00:...|\n",
      "|      30|2013-07-25 00:00:...|\n",
      "|      31|2013-07-25 00:00:...|\n",
      "|      32|2013-07-25 00:00:...|\n",
      "|      33|2013-07-25 00:00:...|\n",
      "|      34|2013-07-25 00:00:...|\n",
      "|      35|2013-07-25 00:00:...|\n",
      "|      36|2013-07-25 00:00:...|\n",
      "|      37|2013-07-25 00:00:...|\n",
      "|      38|2013-07-25 00:00:...|\n",
      "|      39|2013-07-25 00:00:...|\n",
      "|      40|2013-07-25 00:00:...|\n",
      "|      41|2013-07-25 00:00:...|\n",
      "|      42|2013-07-25 00:00:...|\n",
      "|      43|2013-07-25 00:00:...|\n",
      "|      44|2013-07-25 00:00:...|\n",
      "|      45|2013-07-25 00:00:...|\n",
      "|      46|2013-07-25 00:00:...|\n",
      "|      47|2013-07-25 00:00:...|\n",
      "|      48|2013-07-25 00:00:...|\n",
      "|      49|2013-07-25 00:00:...|\n",
      "|      50|2013-07-25 00:00:...|\n",
      "|      51|2013-07-25 00:00:...|\n",
      "|      52|2013-07-25 00:00:...|\n",
      "|      53|2013-07-25 00:00:...|\n",
      "|      54|2013-07-25 00:00:...|\n",
      "|      55|2013-07-25 00:00:...|\n",
      "|      56|2013-07-25 00:00:...|\n",
      "|      57|2013-07-25 00:00:...|\n",
      "|      58|2013-07-25 00:00:...|\n",
      "|      59|2013-07-25 00:00:...|\n",
      "|      60|2013-07-25 00:00:...|\n",
      "|      61|2013-07-25 00:00:...|\n",
      "|      62|2013-07-25 00:00:...|\n",
      "|      63|2013-07-25 00:00:...|\n",
      "|      64|2013-07-25 00:00:...|\n",
      "|      65|2013-07-25 00:00:...|\n",
      "|      66|2013-07-25 00:00:...|\n",
      "|      67|2013-07-25 00:00:...|\n",
      "|      68|2013-07-25 00:00:...|\n",
      "|      69|2013-07-25 00:00:...|\n",
      "|      70|2013-07-25 00:00:...|\n",
      "|      71|2013-07-25 00:00:...|\n",
      "|      72|2013-07-25 00:00:...|\n",
      "|      73|2013-07-25 00:00:...|\n",
      "|      74|2013-07-25 00:00:...|\n",
      "|      75|2013-07-25 00:00:...|\n",
      "|      76|2013-07-25 00:00:...|\n",
      "|      77|2013-07-25 00:00:...|\n",
      "|      78|2013-07-25 00:00:...|\n",
      "|      79|2013-07-25 00:00:...|\n",
      "|      80|2013-07-25 00:00:...|\n",
      "|      81|2013-07-25 00:00:...|\n",
      "|      82|2013-07-25 00:00:...|\n",
      "|      83|2013-07-25 00:00:...|\n",
      "|      84|2013-07-25 00:00:...|\n",
      "|      85|2013-07-25 00:00:...|\n",
      "|      86|2013-07-25 00:00:...|\n",
      "|      87|2013-07-25 00:00:...|\n",
      "|      88|2013-07-25 00:00:...|\n",
      "|      89|2013-07-25 00:00:...|\n",
      "|      90|2013-07-25 00:00:...|\n",
      "|      91|2013-07-25 00:00:...|\n",
      "|      92|2013-07-25 00:00:...|\n",
      "|      93|2013-07-25 00:00:...|\n",
      "|      94|2013-07-25 00:00:...|\n",
      "|      95|2013-07-25 00:00:...|\n",
      "|      96|2013-07-25 00:00:...|\n",
      "|      97|2013-07-25 00:00:...|\n",
      "|      98|2013-07-25 00:00:...|\n",
      "|      99|2013-07-25 00:00:...|\n",
      "|     100|2013-07-25 00:00:...|\n",
      "+--------+--------------------+\n",
      "only showing top 100 rows\n",
      "\n"
     ]
    }
   ],
   "source": [
    "ordersDF.select('order_id','order_date').show(100)"
   ]
  },
  {
   "cell_type": "code",
   "execution_count": 17,
   "metadata": {},
   "outputs": [
    {
     "name": "stdout",
     "output_type": "stream",
     "text": [
      "Row(order_id='1', order_date='2013-07-25 00:00:00.0')\n",
      "Row(order_id='2', order_date='2013-07-25 00:00:00.0')\n",
      "Row(order_id='3', order_date='2013-07-25 00:00:00.0')\n",
      "Row(order_id='4', order_date='2013-07-25 00:00:00.0')\n",
      "Row(order_id='5', order_date='2013-07-25 00:00:00.0')\n",
      "Row(order_id='6', order_date='2013-07-25 00:00:00.0')\n",
      "Row(order_id='7', order_date='2013-07-25 00:00:00.0')\n",
      "Row(order_id='8', order_date='2013-07-25 00:00:00.0')\n",
      "Row(order_id='9', order_date='2013-07-25 00:00:00.0')\n",
      "Row(order_id='10', order_date='2013-07-25 00:00:00.0')\n"
     ]
    }
   ],
   "source": [
    "for i in ordersDF.select('order_id','order_date').take(10):\n",
    "    print(i)"
   ]
  },
  {
   "cell_type": "code",
   "execution_count": 19,
   "metadata": {},
   "outputs": [
    {
     "name": "stdout",
     "output_type": "stream",
     "text": [
      "+-------+------------------+--------------------+-----------------+---------------+\n",
      "|summary|          order_id|          order_date| order_customerID|   order_status|\n",
      "+-------+------------------+--------------------+-----------------+---------------+\n",
      "|  count|             68883|               68883|            68883|          68883|\n",
      "|   mean|           34442.0|                null|6216.571098819738|           null|\n",
      "| stddev|19884.953633337947|                null|3586.205241263963|           null|\n",
      "|    min|                 1|2013-07-25 00:00:...|                1|       CANCELED|\n",
      "|    max|              9999|2014-07-24 00:00:...|             9999|SUSPECTED_FRAUD|\n",
      "+-------+------------------+--------------------+-----------------+---------------+\n",
      "\n"
     ]
    }
   ],
   "source": [
    "ordersDF.describe().show()"
   ]
  },
  {
   "cell_type": "code",
   "execution_count": 20,
   "metadata": {},
   "outputs": [
    {
     "data": {
      "text/plain": [
       "68883"
      ]
     },
     "execution_count": 20,
     "metadata": {},
     "output_type": "execute_result"
    }
   ],
   "source": [
    "ordersDF.count()"
   ]
  },
  {
   "cell_type": "code",
   "execution_count": 25,
   "metadata": {},
   "outputs": [],
   "source": [
    "ordersDF.select('order_id','order_status').createTempView('orders_data')"
   ]
  },
  {
   "cell_type": "code",
   "execution_count": 29,
   "metadata": {},
   "outputs": [
    {
     "name": "stdout",
     "output_type": "stream",
     "text": [
      "+--------+------------+\n",
      "|order_id|order_status|\n",
      "+--------+------------+\n",
      "|       3|    COMPLETE|\n",
      "|       5|    COMPLETE|\n",
      "|       6|    COMPLETE|\n",
      "|       7|    COMPLETE|\n",
      "|      15|    COMPLETE|\n",
      "|      17|    COMPLETE|\n",
      "|      22|    COMPLETE|\n",
      "|      26|    COMPLETE|\n",
      "|      28|    COMPLETE|\n",
      "|      32|    COMPLETE|\n",
      "+--------+------------+\n",
      "only showing top 10 rows\n",
      "\n"
     ]
    }
   ],
   "source": [
    "spark.sql(\"select * from orders_data where order_status = 'COMPLETE'\").show(10)"
   ]
  },
  {
   "cell_type": "code",
   "execution_count": null,
   "metadata": {},
   "outputs": [],
   "source": []
  }
 ],
 "metadata": {
  "kernelspec": {
   "display_name": "Python 3",
   "language": "python",
   "name": "python3"
  },
  "language_info": {
   "codemirror_mode": {
    "name": "ipython",
    "version": 3
   },
   "file_extension": ".py",
   "mimetype": "text/x-python",
   "name": "python",
   "nbconvert_exporter": "python",
   "pygments_lexer": "ipython3",
   "version": "3.7.4"
  }
 },
 "nbformat": 4,
 "nbformat_minor": 2
}
