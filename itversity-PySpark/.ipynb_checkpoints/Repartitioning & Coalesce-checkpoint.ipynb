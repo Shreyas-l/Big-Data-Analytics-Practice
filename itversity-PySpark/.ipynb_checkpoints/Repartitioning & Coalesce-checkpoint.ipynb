{
 "cells": [
  {
   "cell_type": "code",
   "execution_count": 3,
   "metadata": {},
   "outputs": [
    {
     "data": {
      "text/plain": [
       "68883"
      ]
     },
     "execution_count": 3,
     "metadata": {},
     "output_type": "execute_result"
    }
   ],
   "source": [
    "orders = sc.textFile(\"/Users/shreyas_rl/Desktop/git/itversity-data/retail_db/orders\",4)  # 4 Partitions\n",
    "orders.count()"
   ]
  },
  {
   "cell_type": "code",
   "execution_count": 4,
   "metadata": {},
   "outputs": [
    {
     "data": {
      "text/plain": [
       "172198"
      ]
     },
     "execution_count": 4,
     "metadata": {},
     "output_type": "execute_result"
    }
   ],
   "source": [
    "orderItems = sc.textFile(\"/Users/shreyas_rl/Desktop/git/itversity-data/retail_db/order_items\",8)  # 8 Partitions\n",
    "orderItems.count()"
   ]
  },
  {
   "cell_type": "code",
   "execution_count": 5,
   "metadata": {},
   "outputs": [
    {
     "data": {
      "text/plain": [
       "['1,2013-07-25 00:00:00.0,11599,CLOSED',\n",
       " '2,2013-07-25 00:00:00.0,256,PENDING_PAYMENT',\n",
       " '3,2013-07-25 00:00:00.0,12111,COMPLETE',\n",
       " '4,2013-07-25 00:00:00.0,8827,CLOSED',\n",
       " '5,2013-07-25 00:00:00.0,11318,COMPLETE']"
      ]
     },
     "execution_count": 5,
     "metadata": {},
     "output_type": "execute_result"
    }
   ],
   "source": [
    "orders.take(5)"
   ]
  },
  {
   "cell_type": "code",
   "execution_count": 6,
   "metadata": {},
   "outputs": [
    {
     "data": {
      "text/plain": [
       "[(1, '1,2013-07-25 00:00:00.0,11599,CLOSED'),\n",
       " (2, '2,2013-07-25 00:00:00.0,256,PENDING_PAYMENT'),\n",
       " (3, '3,2013-07-25 00:00:00.0,12111,COMPLETE'),\n",
       " (4, '4,2013-07-25 00:00:00.0,8827,CLOSED'),\n",
       " (5, '5,2013-07-25 00:00:00.0,11318,COMPLETE')]"
      ]
     },
     "execution_count": 6,
     "metadata": {},
     "output_type": "execute_result"
    }
   ],
   "source": [
    "ordersMap = orders.map(lambda x : (int(x.split(',')[0]),x))\n",
    "ordersMap.take(5)"
   ]
  },
  {
   "cell_type": "code",
   "execution_count": 7,
   "metadata": {},
   "outputs": [
    {
     "data": {
      "text/plain": [
       "['1,1,957,1,299.98,299.98',\n",
       " '2,2,1073,1,199.99,199.99',\n",
       " '3,2,502,5,250.0,50.0',\n",
       " '4,2,403,1,129.99,129.99',\n",
       " '5,4,897,2,49.98,24.99']"
      ]
     },
     "execution_count": 7,
     "metadata": {},
     "output_type": "execute_result"
    }
   ],
   "source": [
    "orderItems.take(5)"
   ]
  },
  {
   "cell_type": "code",
   "execution_count": 8,
   "metadata": {},
   "outputs": [
    {
     "data": {
      "text/plain": [
       "[(1, '1,1,957,1,299.98,299.98'),\n",
       " (2, '2,2,1073,1,199.99,199.99'),\n",
       " (2, '3,2,502,5,250.0,50.0'),\n",
       " (2, '4,2,403,1,129.99,129.99'),\n",
       " (4, '5,4,897,2,49.98,24.99')]"
      ]
     },
     "execution_count": 8,
     "metadata": {},
     "output_type": "execute_result"
    }
   ],
   "source": [
    "orderItemsMap = orderItems.map(lambda x : (int(x.split(',')[1]),x))\n",
    "orderItemsMap.take(5)"
   ]
  },
  {
   "cell_type": "code",
   "execution_count": 10,
   "metadata": {},
   "outputs": [
    {
     "data": {
      "text/plain": [
       "68883"
      ]
     },
     "execution_count": 10,
     "metadata": {},
     "output_type": "execute_result"
    }
   ],
   "source": [
    "# While performing join operation, ensure the no. of partitions are some for all the RDDs for consistency of Data\n",
    "\n",
    "ordersRepartition = ordersMap.repartition(8)\n",
    "ordersRepartition.count()"
   ]
  },
  {
   "cell_type": "code",
   "execution_count": null,
   "metadata": {},
   "outputs": [],
   "source": []
  }
 ],
 "metadata": {
  "kernelspec": {
   "display_name": "Python 3",
   "language": "python",
   "name": "python3"
  },
  "language_info": {
   "codemirror_mode": {
    "name": "ipython",
    "version": 3
   },
   "file_extension": ".py",
   "mimetype": "text/x-python",
   "name": "python",
   "nbconvert_exporter": "python",
   "pygments_lexer": "ipython3",
   "version": "3.7.4"
  }
 },
 "nbformat": 4,
 "nbformat_minor": 2
}
