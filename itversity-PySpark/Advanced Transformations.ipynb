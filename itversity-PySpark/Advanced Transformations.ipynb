{
 "cells": [
  {
   "cell_type": "code",
   "execution_count": 1,
   "metadata": {},
   "outputs": [
    {
     "data": {
      "text/plain": [
       "' Map Operation invokes the lamda function for each and every record of each and every partition of the input RDD.\\nIf there exists a common functionality for a partition of records, such as a connection to a database table, then mapPartition\\ncan be invoked, which accepts an iterable lambda function.'"
      ]
     },
     "execution_count": 1,
     "metadata": {},
     "output_type": "execute_result"
    }
   ],
   "source": [
    "''' Map Operation invokes the lamda function for each and every record of each and every partition of the input RDD.\n",
    "If there exists a common functionality for a partition of records, such as a connection to a database table, then mapPartition\n",
    "can be invoked, which accepts an iterable lambda function.'''"
   ]
  },
  {
   "cell_type": "code",
   "execution_count": 2,
   "metadata": {},
   "outputs": [
    {
     "data": {
      "text/plain": [
       "[\"Trump was born and raised in Queens, a borough of New York City, and received a bachelor's degree in economics from the Wharton School. He took charge of his family's real-estate business in 1971, renamed it The Trump Organization, and expanded its operations from Queens and Brooklyn into Manhattan. The company built or renovated skyscrapers, hotels, casinos, and golf courses. Trump later started various side ventures, mostly by licensing his name. He produced and hosted The Apprentice, a reality television series, from 2003 to 2015. As of 2020, Forbes estimated his net worth to be $2.1\\xa0billion.\"]"
      ]
     },
     "execution_count": 2,
     "metadata": {},
     "output_type": "execute_result"
    }
   ],
   "source": [
    "# Word Count using mapPartitions \n",
    "\n",
    "myRDD = sc.textFile('DonaldTrump.txt')\n",
    "myRDD.collect()"
   ]
  },
  {
   "cell_type": "code",
   "execution_count": 8,
   "metadata": {},
   "outputs": [
    {
     "data": {
      "text/plain": [
       "[('Trump', 1), ('was', 1), ('born', 1), ('and', 1), ('raised', 1)]"
      ]
     },
     "execution_count": 8,
     "metadata": {},
     "output_type": "execute_result"
    }
   ],
   "source": [
    "wordTuples = myRDD.mapPartitions(lambda x : func(x))\n",
    "\n",
    "import itertools as it\n",
    "\n",
    "def func(x):\n",
    "    lines = map(lambda z : (z,1),it.chain.from_iterable(map(lambda y : y.split(' '),x)))\n",
    "    return(lines)\n",
    "wordTuples.take(5)"
   ]
  },
  {
   "cell_type": "code",
   "execution_count": 9,
   "metadata": {
    "collapsed": true
   },
   "outputs": [
    {
     "data": {
      "text/plain": [
       "[('Trump', 3),\n",
       " ('was', 1),\n",
       " ('raised', 1),\n",
       " ('in', 3),\n",
       " ('of', 3),\n",
       " ('New', 1),\n",
       " ('economics', 1),\n",
       " ('Wharton', 1),\n",
       " ('School.', 1),\n",
       " ('took', 1),\n",
       " ('charge', 1),\n",
       " ('his', 3),\n",
       " ('business', 1),\n",
       " ('1971,', 1),\n",
       " ('renamed', 1),\n",
       " ('The', 3),\n",
       " ('Organization,', 1),\n",
       " ('operations', 1),\n",
       " ('Brooklyn', 1),\n",
       " ('into', 1),\n",
       " ('renovated', 1),\n",
       " ('hotels,', 1),\n",
       " ('courses.', 1),\n",
       " ('started', 1),\n",
       " ('produced', 1),\n",
       " ('Apprentice,', 1),\n",
       " ('television', 1),\n",
       " ('series,', 1),\n",
       " ('2003', 1),\n",
       " ('2015.', 1),\n",
       " ('estimated', 1),\n",
       " ('worth', 1),\n",
       " ('born', 1),\n",
       " ('and', 6),\n",
       " ('Queens,', 1),\n",
       " ('a', 3),\n",
       " ('borough', 1),\n",
       " ('York', 1),\n",
       " ('City,', 1),\n",
       " ('received', 1),\n",
       " (\"bachelor's\", 1),\n",
       " ('degree', 1),\n",
       " ('from', 3),\n",
       " ('the', 1),\n",
       " ('He', 2),\n",
       " (\"family's\", 1),\n",
       " ('real-estate', 1),\n",
       " ('it', 1),\n",
       " ('expanded', 1),\n",
       " ('its', 1),\n",
       " ('Queens', 1),\n",
       " ('Manhattan.', 1),\n",
       " ('company', 1),\n",
       " ('built', 1),\n",
       " ('or', 1),\n",
       " ('skyscrapers,', 1),\n",
       " ('casinos,', 1),\n",
       " ('golf', 1),\n",
       " ('later', 1),\n",
       " ('various', 1),\n",
       " ('side', 1),\n",
       " ('ventures,', 1),\n",
       " ('mostly', 1),\n",
       " ('by', 1),\n",
       " ('licensing', 1),\n",
       " ('name.', 1),\n",
       " ('hosted', 1),\n",
       " ('reality', 1),\n",
       " ('to', 2),\n",
       " ('As', 1),\n",
       " ('2020,', 1),\n",
       " ('Forbes', 1),\n",
       " ('net', 1),\n",
       " ('be', 1),\n",
       " ('$2.1\\xa0billion.', 1)]"
      ]
     },
     "execution_count": 9,
     "metadata": {},
     "output_type": "execute_result"
    }
   ],
   "source": [
    "wordCount = wordTuples.reduceByKey(lambda x,y : x+y)\n",
    "wordCount.collect()"
   ]
  },
  {
   "cell_type": "code",
   "execution_count": 13,
   "metadata": {},
   "outputs": [
    {
     "data": {
      "text/plain": [
       "1345"
      ]
     },
     "execution_count": 13,
     "metadata": {},
     "output_type": "execute_result"
    }
   ],
   "source": [
    "# Ranking\n",
    "\n",
    "productsRDD = sc.textFile('/Users/shreyas_rl/Desktop/git/itversity-data/retail_db/products')\n",
    "#productsRDD.collect()\n",
    "productsRDD.count()"
   ]
  },
  {
   "cell_type": "code",
   "execution_count": 14,
   "metadata": {},
   "outputs": [
    {
     "data": {
      "text/plain": [
       "1344"
      ]
     },
     "execution_count": 14,
     "metadata": {},
     "output_type": "execute_result"
    }
   ],
   "source": [
    "productsFiltered = productsRDD.filter(lambda x : x.split(\",\")[4] != \"\")\n",
    "productsFiltered.count()"
   ]
  },
  {
   "cell_type": "code",
   "execution_count": 15,
   "metadata": {},
   "outputs": [
    {
     "data": {
      "text/plain": [
       "['1,2,Quest Q64 10 FT. x 10 FT. Slant Leg Instant U,,59.98,http://images.acmesports.sports/Quest+Q64+10+FT.+x+10+FT.+Slant+Leg+Instant+Up+Canopy',\n",
       " \"2,2,Under Armour Men's Highlight MC Football Clea,,129.99,http://images.acmesports.sports/Under+Armour+Men%27s+Highlight+MC+Football+Cleat\",\n",
       " \"3,2,Under Armour Men's Renegade D Mid Football Cl,,89.99,http://images.acmesports.sports/Under+Armour+Men%27s+Renegade+D+Mid+Football+Cleat\",\n",
       " \"4,2,Under Armour Men's Renegade D Mid Football Cl,,89.99,http://images.acmesports.sports/Under+Armour+Men%27s+Renegade+D+Mid+Football+Cleat\",\n",
       " '5,2,Riddell Youth Revolution Speed Custom Footbal,,199.99,http://images.acmesports.sports/Riddell+Youth+Revolution+Speed+Custom+Football+Helmet']"
      ]
     },
     "execution_count": 15,
     "metadata": {},
     "output_type": "execute_result"
    }
   ],
   "source": [
    "productsFiltered.take(5)"
   ]
  },
  {
   "cell_type": "code",
   "execution_count": 19,
   "metadata": {
    "collapsed": true
   },
   "outputs": [
    {
     "data": {
      "text/plain": [
       "[((2, -59.98),\n",
       "  ['1',\n",
       "   '2',\n",
       "   'Quest Q64 10 FT. x 10 FT. Slant Leg Instant U',\n",
       "   '',\n",
       "   '59.98',\n",
       "   'http://images.acmesports.sports/Quest+Q64+10+FT.+x+10+FT.+Slant+Leg+Instant+Up+Canopy']),\n",
       " ((2, -129.99),\n",
       "  ['2',\n",
       "   '2',\n",
       "   \"Under Armour Men's Highlight MC Football Clea\",\n",
       "   '',\n",
       "   '129.99',\n",
       "   'http://images.acmesports.sports/Under+Armour+Men%27s+Highlight+MC+Football+Cleat']),\n",
       " ((2, -89.99),\n",
       "  ['3',\n",
       "   '2',\n",
       "   \"Under Armour Men's Renegade D Mid Football Cl\",\n",
       "   '',\n",
       "   '89.99',\n",
       "   'http://images.acmesports.sports/Under+Armour+Men%27s+Renegade+D+Mid+Football+Cleat']),\n",
       " ((2, -89.99),\n",
       "  ['4',\n",
       "   '2',\n",
       "   \"Under Armour Men's Renegade D Mid Football Cl\",\n",
       "   '',\n",
       "   '89.99',\n",
       "   'http://images.acmesports.sports/Under+Armour+Men%27s+Renegade+D+Mid+Football+Cleat']),\n",
       " ((2, -199.99),\n",
       "  ['5',\n",
       "   '2',\n",
       "   'Riddell Youth Revolution Speed Custom Footbal',\n",
       "   '',\n",
       "   '199.99',\n",
       "   'http://images.acmesports.sports/Riddell+Youth+Revolution+Speed+Custom+Football+Helmet'])]"
      ]
     },
     "execution_count": 19,
     "metadata": {},
     "output_type": "execute_result"
    }
   ],
   "source": [
    "# Find top products in each category:\n",
    "\n",
    "productsMap = productsFiltered.map(lambda x : func(x))\n",
    "def func(x):\n",
    "    temp = x.split(',')\n",
    "    return(((int(temp[1]),-float(temp[4])),temp))\n",
    "\n",
    "productsMap.take(5)"
   ]
  },
  {
   "cell_type": "code",
   "execution_count": 21,
   "metadata": {},
   "outputs": [
    {
     "data": {
      "text/plain": [
       "[((2, -299.99),\n",
       "  ['16',\n",
       "   '2',\n",
       "   'Riddell Youth 360 Custom Football Helmet',\n",
       "   '',\n",
       "   '299.99',\n",
       "   'http://images.acmesports.sports/Riddell+Youth+360+Custom+Football+Helmet']),\n",
       " ((2, -209.99),\n",
       "  ['11',\n",
       "   '2',\n",
       "   'Fitness Gear 300 lb Olympic Weight Set',\n",
       "   '',\n",
       "   '209.99',\n",
       "   'http://images.acmesports.sports/Fitness+Gear+300+lb+Olympic+Weight+Set'])]"
      ]
     },
     "execution_count": 21,
     "metadata": {},
     "output_type": "execute_result"
    }
   ],
   "source": [
    "sortProducts = productsMap.sortByKey(True)\n",
    "sortProducts.take(2)"
   ]
  },
  {
   "cell_type": "code",
   "execution_count": 24,
   "metadata": {},
   "outputs": [
    {
     "data": {
      "text/plain": [
       "[['16',\n",
       "  '2',\n",
       "  'Riddell Youth 360 Custom Football Helmet',\n",
       "  '',\n",
       "  '299.99',\n",
       "  'http://images.acmesports.sports/Riddell+Youth+360+Custom+Football+Helmet'],\n",
       " ['11',\n",
       "  '2',\n",
       "  'Fitness Gear 300 lb Olympic Weight Set',\n",
       "  '',\n",
       "  '209.99',\n",
       "  'http://images.acmesports.sports/Fitness+Gear+300+lb+Olympic+Weight+Set'],\n",
       " ['5',\n",
       "  '2',\n",
       "  'Riddell Youth Revolution Speed Custom Footbal',\n",
       "  '',\n",
       "  '199.99',\n",
       "  'http://images.acmesports.sports/Riddell+Youth+Revolution+Speed+Custom+Football+Helmet'],\n",
       " ['14',\n",
       "  '2',\n",
       "  'Quik Shade Summit SX170 10 FT. x 10 FT. Canop',\n",
       "  '',\n",
       "  '199.99',\n",
       "  'http://images.acmesports.sports/Quik+Shade+Summit+SX170+10+FT.+x+10+FT.+Canopy'],\n",
       " ['12',\n",
       "  '2',\n",
       "  \"Under Armour Men's Highlight MC Alter Ego Fla\",\n",
       "  '',\n",
       "  '139.99',\n",
       "  'http://images.acmesports.sports/Under+Armour+Men%27s+Highlight+MC+Alter+Ego+Flash+Football...']]"
      ]
     },
     "execution_count": 24,
     "metadata": {},
     "output_type": "execute_result"
    }
   ],
   "source": [
    "finalProducts = sortProducts.map(lambda x : (x[1]))\n",
    "finalProducts.take(5)"
   ]
  },
  {
   "cell_type": "code",
   "execution_count": 37,
   "metadata": {
    "collapsed": true
   },
   "outputs": [
    {
     "data": {
      "text/plain": [
       "[(2,\n",
       "  ['16',\n",
       "   '2',\n",
       "   'Riddell Youth 360 Custom Football Helmet',\n",
       "   '',\n",
       "   '299.99',\n",
       "   'http://images.acmesports.sports/Riddell+Youth+360+Custom+Football+Helmet']),\n",
       " (2,\n",
       "  ['11',\n",
       "   '2',\n",
       "   'Fitness Gear 300 lb Olympic Weight Set',\n",
       "   '',\n",
       "   '209.99',\n",
       "   'http://images.acmesports.sports/Fitness+Gear+300+lb+Olympic+Weight+Set']),\n",
       " (2,\n",
       "  ['5',\n",
       "   '2',\n",
       "   'Riddell Youth Revolution Speed Custom Footbal',\n",
       "   '',\n",
       "   '199.99',\n",
       "   'http://images.acmesports.sports/Riddell+Youth+Revolution+Speed+Custom+Football+Helmet']),\n",
       " (2,\n",
       "  ['14',\n",
       "   '2',\n",
       "   'Quik Shade Summit SX170 10 FT. x 10 FT. Canop',\n",
       "   '',\n",
       "   '199.99',\n",
       "   'http://images.acmesports.sports/Quik+Shade+Summit+SX170+10+FT.+x+10+FT.+Canopy']),\n",
       " (2,\n",
       "  ['12',\n",
       "   '2',\n",
       "   \"Under Armour Men's Highlight MC Alter Ego Fla\",\n",
       "   '',\n",
       "   '139.99',\n",
       "   'http://images.acmesports.sports/Under+Armour+Men%27s+Highlight+MC+Alter+Ego+Flash+Football...']),\n",
       " (2,\n",
       "  ['23',\n",
       "   '2',\n",
       "   \"Under Armour Men's Highlight MC Alter Ego Hul\",\n",
       "   '',\n",
       "   '139.99',\n",
       "   'http://images.acmesports.sports/Under+Armour+Men%27s+Highlight+MC+Alter+Ego+Hulk+Football...']),\n",
       " (2,\n",
       "  ['6',\n",
       "   '2',\n",
       "   \"Jordan Men's VI Retro TD Football Cleat\",\n",
       "   '',\n",
       "   '134.99',\n",
       "   'http://images.acmesports.sports/Jordan+Men%27s+VI+Retro+TD+Football+Cleat']),\n",
       " (2,\n",
       "  ['2',\n",
       "   '2',\n",
       "   \"Under Armour Men's Highlight MC Football Clea\",\n",
       "   '',\n",
       "   '129.99',\n",
       "   'http://images.acmesports.sports/Under+Armour+Men%27s+Highlight+MC+Football+Cleat']),\n",
       " (2,\n",
       "  ['8',\n",
       "   '2',\n",
       "   \"Nike Men's Vapor Carbon Elite TD Football Cle\",\n",
       "   '',\n",
       "   '129.99',\n",
       "   'http://images.acmesports.sports/Nike+Men%27s+Vapor+Carbon+Elite+TD+Football+Cleat']),\n",
       " (2,\n",
       "  ['10',\n",
       "   '2',\n",
       "   \"Under Armour Men's Highlight MC Football Clea\",\n",
       "   '',\n",
       "   '129.99',\n",
       "   'http://images.acmesports.sports/Under+Armour+Men%27s+Highlight+MC+Football+Cleat'])]"
      ]
     },
     "execution_count": 37,
     "metadata": {},
     "output_type": "execute_result"
    }
   ],
   "source": [
    "# Find top 4 products in each category\n",
    "\n",
    "mapProd = finalProducts.map(lambda x : (int(x[1]),x))\n",
    "mapProd.take(10)"
   ]
  },
  {
   "cell_type": "code",
   "execution_count": 39,
   "metadata": {},
   "outputs": [
    {
     "data": {
      "text/plain": [
       "[(2, <pyspark.resultiterable.ResultIterable at 0x11ebf7710>),\n",
       " (4, <pyspark.resultiterable.ResultIterable at 0x11ebf7510>),\n",
       " (6, <pyspark.resultiterable.ResultIterable at 0x11ebfbe10>),\n",
       " (8, <pyspark.resultiterable.ResultIterable at 0x11ebfb190>),\n",
       " (10, <pyspark.resultiterable.ResultIterable at 0x11ec05710>)]"
      ]
     },
     "execution_count": 39,
     "metadata": {},
     "output_type": "execute_result"
    }
   ],
   "source": [
    "prodGBK = mapProd.groupByKey()\n",
    "prodGBK.take(5)"
   ]
  },
  {
   "cell_type": "code",
   "execution_count": 40,
   "metadata": {},
   "outputs": [
    {
     "data": {
      "text/plain": [
       "[2,\n",
       " [['16',\n",
       "   '2',\n",
       "   'Riddell Youth 360 Custom Football Helmet',\n",
       "   '',\n",
       "   '299.99',\n",
       "   'http://images.acmesports.sports/Riddell+Youth+360+Custom+Football+Helmet'],\n",
       "  ['11',\n",
       "   '2',\n",
       "   'Fitness Gear 300 lb Olympic Weight Set',\n",
       "   '',\n",
       "   '209.99',\n",
       "   'http://images.acmesports.sports/Fitness+Gear+300+lb+Olympic+Weight+Set'],\n",
       "  ['5',\n",
       "   '2',\n",
       "   'Riddell Youth Revolution Speed Custom Footbal',\n",
       "   '',\n",
       "   '199.99',\n",
       "   'http://images.acmesports.sports/Riddell+Youth+Revolution+Speed+Custom+Football+Helmet'],\n",
       "  ['14',\n",
       "   '2',\n",
       "   'Quik Shade Summit SX170 10 FT. x 10 FT. Canop',\n",
       "   '',\n",
       "   '199.99',\n",
       "   'http://images.acmesports.sports/Quik+Shade+Summit+SX170+10+FT.+x+10+FT.+Canopy']],\n",
       " 4,\n",
       " [['66',\n",
       "   '4',\n",
       "   'SOLE F85 Treadmill',\n",
       "   '',\n",
       "   '1799.99',\n",
       "   'http://images.acmesports.sports/SOLE+F85+Treadmill'],\n",
       "  ['60',\n",
       "   '4',\n",
       "   'SOLE E25 Elliptical',\n",
       "   '',\n",
       "   '999.99',\n",
       "   'http://images.acmesports.sports/SOLE+E25+Elliptical'],\n",
       "  ['71',\n",
       "   '4',\n",
       "   'Diamondback Adult Response XE Mountain Bike 2',\n",
       "   '',\n",
       "   '349.98',\n",
       "   'http://images.acmesports.sports/Diamondback+Adult+Response+XE+Mountain+Bike+2014'],\n",
       "  ['68',\n",
       "   '4',\n",
       "   'Diamondback Adult Outlook Mountain Bike 2014',\n",
       "   '',\n",
       "   '309.99',\n",
       "   'http://images.acmesports.sports/Diamondback+Adult+Outlook+Mountain+Bike+2014']],\n",
       " 6]"
      ]
     },
     "execution_count": 40,
     "metadata": {},
     "output_type": "execute_result"
    }
   ],
   "source": [
    "prodFlatMap = prodGBK.flatMap(lambda x : func(x))\n",
    "\n",
    "def func(x):\n",
    "    temp = list(x[1])[:4]\n",
    "    return((x[0],temp))\n",
    "\n",
    "prodFlatMap.take(5)"
   ]
  },
  {
   "cell_type": "code",
   "execution_count": null,
   "metadata": {},
   "outputs": [],
   "source": []
  }
 ],
 "metadata": {
  "kernelspec": {
   "display_name": "Python 3",
   "language": "python",
   "name": "python3"
  },
  "language_info": {
   "codemirror_mode": {
    "name": "ipython",
    "version": 3
   },
   "file_extension": ".py",
   "mimetype": "text/x-python",
   "name": "python",
   "nbconvert_exporter": "python",
   "pygments_lexer": "ipython3",
   "version": "3.7.4"
  }
 },
 "nbformat": 4,
 "nbformat_minor": 2
}
