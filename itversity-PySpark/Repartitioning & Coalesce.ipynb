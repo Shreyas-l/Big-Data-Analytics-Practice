{
 "cells": [
  {
   "cell_type": "code",
   "execution_count": 3,
   "metadata": {},
   "outputs": [
    {
     "data": {
      "text/plain": [
       "68883"
      ]
     },
     "execution_count": 3,
     "metadata": {},
     "output_type": "execute_result"
    }
   ],
   "source": [
    "orders = sc.textFile(\"/Users/shreyas_rl/Desktop/git/itversity-data/retail_db/orders\",4)  # 4 Partitions\n",
    "orders.count()"
   ]
  },
  {
   "cell_type": "code",
   "execution_count": 4,
   "metadata": {},
   "outputs": [
    {
     "data": {
      "text/plain": [
       "172198"
      ]
     },
     "execution_count": 4,
     "metadata": {},
     "output_type": "execute_result"
    }
   ],
   "source": [
    "orderItems = sc.textFile(\"/Users/shreyas_rl/Desktop/git/itversity-data/retail_db/order_items\",8)  # 8 Partitions\n",
    "orderItems.count()"
   ]
  },
  {
   "cell_type": "code",
   "execution_count": 5,
   "metadata": {},
   "outputs": [
    {
     "data": {
      "text/plain": [
       "['1,2013-07-25 00:00:00.0,11599,CLOSED',\n",
       " '2,2013-07-25 00:00:00.0,256,PENDING_PAYMENT',\n",
       " '3,2013-07-25 00:00:00.0,12111,COMPLETE',\n",
       " '4,2013-07-25 00:00:00.0,8827,CLOSED',\n",
       " '5,2013-07-25 00:00:00.0,11318,COMPLETE']"
      ]
     },
     "execution_count": 5,
     "metadata": {},
     "output_type": "execute_result"
    }
   ],
   "source": [
    "orders.take(5)"
   ]
  },
  {
   "cell_type": "code",
   "execution_count": 6,
   "metadata": {},
   "outputs": [
    {
     "data": {
      "text/plain": [
       "[(1, '1,2013-07-25 00:00:00.0,11599,CLOSED'),\n",
       " (2, '2,2013-07-25 00:00:00.0,256,PENDING_PAYMENT'),\n",
       " (3, '3,2013-07-25 00:00:00.0,12111,COMPLETE'),\n",
       " (4, '4,2013-07-25 00:00:00.0,8827,CLOSED'),\n",
       " (5, '5,2013-07-25 00:00:00.0,11318,COMPLETE')]"
      ]
     },
     "execution_count": 6,
     "metadata": {},
     "output_type": "execute_result"
    }
   ],
   "source": [
    "ordersMap = orders.map(lambda x : (int(x.split(',')[0]),x))\n",
    "ordersMap.take(5)"
   ]
  },
  {
   "cell_type": "code",
   "execution_count": 7,
   "metadata": {},
   "outputs": [
    {
     "data": {
      "text/plain": [
       "['1,1,957,1,299.98,299.98',\n",
       " '2,2,1073,1,199.99,199.99',\n",
       " '3,2,502,5,250.0,50.0',\n",
       " '4,2,403,1,129.99,129.99',\n",
       " '5,4,897,2,49.98,24.99']"
      ]
     },
     "execution_count": 7,
     "metadata": {},
     "output_type": "execute_result"
    }
   ],
   "source": [
    "orderItems.take(5)"
   ]
  },
  {
   "cell_type": "code",
   "execution_count": 8,
   "metadata": {},
   "outputs": [
    {
     "data": {
      "text/plain": [
       "[(1, '1,1,957,1,299.98,299.98'),\n",
       " (2, '2,2,1073,1,199.99,199.99'),\n",
       " (2, '3,2,502,5,250.0,50.0'),\n",
       " (2, '4,2,403,1,129.99,129.99'),\n",
       " (4, '5,4,897,2,49.98,24.99')]"
      ]
     },
     "execution_count": 8,
     "metadata": {},
     "output_type": "execute_result"
    }
   ],
   "source": [
    "orderItemsMap = orderItems.map(lambda x : (int(x.split(',')[1]),x))\n",
    "orderItemsMap.take(5)"
   ]
  },
  {
   "cell_type": "code",
   "execution_count": 10,
   "metadata": {},
   "outputs": [
    {
     "data": {
      "text/plain": [
       "68883"
      ]
     },
     "execution_count": 10,
     "metadata": {},
     "output_type": "execute_result"
    }
   ],
   "source": [
    "# While performing join operation, ensure the no. of partitions are some for all the RDDs for consistency of Data\n",
    "\n",
    "ordersRepartition = ordersMap.repartition(8)\n",
    "ordersRepartition.count()"
   ]
  },
  {
   "cell_type": "code",
   "execution_count": 11,
   "metadata": {},
   "outputs": [
    {
     "data": {
      "text/plain": [
       "[(34576,\n",
       "  ('34576,2014-02-23 00:00:00.0,6117,COMPLETE',\n",
       "   '86346,34576,1014,1,49.98,49.98')),\n",
       " (34576,\n",
       "  ('34576,2014-02-23 00:00:00.0,6117,COMPLETE',\n",
       "   '86347,34576,957,1,299.98,299.98')),\n",
       " (34576,\n",
       "  ('34576,2014-02-23 00:00:00.0,6117,COMPLETE',\n",
       "   '86348,34576,365,1,59.99,59.99')),\n",
       " (34576,\n",
       "  ('34576,2014-02-23 00:00:00.0,6117,COMPLETE',\n",
       "   '86349,34576,886,5,124.95,24.99')),\n",
       " (34576,\n",
       "  ('34576,2014-02-23 00:00:00.0,6117,COMPLETE',\n",
       "   '86350,34576,957,1,299.98,299.98'))]"
      ]
     },
     "execution_count": 11,
     "metadata": {},
     "output_type": "execute_result"
    }
   ],
   "source": [
    "joinedRDD = ordersRepartition.join(orderItemsMap)\n",
    "joinedRDD.take(5)"
   ]
  },
  {
   "cell_type": "code",
   "execution_count": 13,
   "metadata": {},
   "outputs": [
    {
     "data": {
      "text/plain": [
       "172198"
      ]
     },
     "execution_count": 13,
     "metadata": {},
     "output_type": "execute_result"
    }
   ],
   "source": [
    "joinedRDD.count()"
   ]
  },
  {
   "cell_type": "code",
   "execution_count": 15,
   "metadata": {},
   "outputs": [],
   "source": [
    "joinedRDD.saveAsTextFile(\"/Users/shreyas_rl/Desktop/git/Big-Data-Analytics/itversity-PySpark/saveAsTextFile/Repartition\")"
   ]
  },
  {
   "cell_type": "code",
   "execution_count": 16,
   "metadata": {},
   "outputs": [],
   "source": [
    "# Use Coalesce to Repartition into lesser No. of Partitions. Coalesce does not use Shuffle, uses Merge (Narrow Dependency)\n",
    "\n",
    "joinedRDD.coalesce(2).saveAsTextFile(\"/Users/shreyas_rl/Desktop/git/Big-Data-Analytics/itversity-PySpark/saveAsTextFile/Coalesce\")"
   ]
  },
  {
   "cell_type": "code",
   "execution_count": null,
   "metadata": {},
   "outputs": [],
   "source": []
  }
 ],
 "metadata": {
  "kernelspec": {
   "display_name": "Python 3",
   "language": "python",
   "name": "python3"
  },
  "language_info": {
   "codemirror_mode": {
    "name": "ipython",
    "version": 3
   },
   "file_extension": ".py",
   "mimetype": "text/x-python",
   "name": "python",
   "nbconvert_exporter": "python",
   "pygments_lexer": "ipython3",
   "version": "3.7.4"
  }
 },
 "nbformat": 4,
 "nbformat_minor": 2
}
