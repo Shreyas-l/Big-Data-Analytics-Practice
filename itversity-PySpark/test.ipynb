{
 "cells": [
  {
   "cell_type": "code",
   "execution_count": 7,
   "metadata": {},
   "outputs": [
    {
     "data": {
      "text/plain": [
       "[(1, '2013-07-25 00:00:00.0'),\n",
       " (2, '2013-07-25 00:00:00.0'),\n",
       " (3, '2013-07-25 00:00:00.0'),\n",
       " (4, '2013-07-25 00:00:00.0'),\n",
       " (5, '2013-07-25 00:00:00.0')]"
      ]
     },
     "execution_count": 7,
     "metadata": {},
     "output_type": "execute_result"
    }
   ],
   "source": [
    "orders = sc.textFile('/Users/shreyas_rl/Desktop/git/itversity-data/retail_db/orders')\n",
    "ordersMap = orders.filter(lambda x : x.split(',')[3] in ('COMPLETE','CLOSED'))\n",
    "ordersKV = orders.map(lambda x : kv1(x))\n",
    "def kv1(x):\n",
    "    temp = x.split(',')\n",
    "    return((int(temp[0]),temp[1]))\n",
    "    \n",
    "ordersKV.take(5)"
   ]
  },
  {
   "cell_type": "code",
   "execution_count": 8,
   "metadata": {},
   "outputs": [
    {
     "data": {
      "text/plain": [
       "[(1, 299.98), (2, 199.99), (2, 250.0), (2, 129.99), (4, 49.98)]"
      ]
     },
     "execution_count": 8,
     "metadata": {},
     "output_type": "execute_result"
    }
   ],
   "source": [
    "orderItems = sc.textFile('/Users/shreyas_rl/Desktop/git/itversity-data/retail_db/order_items')\n",
    "orderItemsKV = orderItems.map(lambda x : kv2(x))\n",
    "def kv2(x):\n",
    "    temp = x.split(',')\n",
    "    return((int(temp[1]),float(temp[4])))\n",
    "\n",
    "orderItemsKV.take(5)"
   ]
  },
  {
   "cell_type": "code",
   "execution_count": 12,
   "metadata": {},
   "outputs": [
    {
     "data": {
      "text/plain": [
       "[('2013-07-25 00:00:00.0', 68153.82999999999),\n",
       " ('2013-07-26 00:00:00.0', 136520.17000000004),\n",
       " ('2013-07-27 00:00:00.0', 101074.34000000003),\n",
       " ('2013-07-28 00:00:00.0', 87123.07999999997),\n",
       " ('2013-07-29 00:00:00.0', 137287.09000000008)]"
      ]
     },
     "execution_count": 12,
     "metadata": {},
     "output_type": "execute_result"
    }
   ],
   "source": [
    "jRDD = ordersKV.join(orderItemsKV)\n",
    "jMap = jRDD.map(lambda x : x[1])\n",
    "jRed = jMap.reduceByKey(lambda x,y : x+y)\n",
    "jSort = jRed.sortByKey(True)\n",
    "jSort.take(5)"
   ]
  },
  {
   "cell_type": "code",
   "execution_count": null,
   "metadata": {},
   "outputs": [],
   "source": []
  }
 ],
 "metadata": {
  "kernelspec": {
   "display_name": "Python 3",
   "language": "python",
   "name": "python3"
  },
  "language_info": {
   "codemirror_mode": {
    "name": "ipython",
    "version": 3
   },
   "file_extension": ".py",
   "mimetype": "text/x-python",
   "name": "python",
   "nbconvert_exporter": "python",
   "pygments_lexer": "ipython3",
   "version": "3.7.4"
  }
 },
 "nbformat": 4,
 "nbformat_minor": 2
}
