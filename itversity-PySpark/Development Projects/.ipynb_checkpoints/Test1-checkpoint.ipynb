{
 "cells": [
  {
   "cell_type": "code",
   "execution_count": 12,
   "metadata": {},
   "outputs": [],
   "source": [
    "inputPath = \"/Users/shreyas_rl/Desktop/git/itversity-data/retail_db\"\n",
    "outputPath = \"/Users/shreyas_rl/Desktop/git/Big-Data-Analytics/itversity-PySpark/Development Projects/Products-Output\"\n",
    "month = \"2014-07\""
   ]
  },
  {
   "cell_type": "code",
   "execution_count": 15,
   "metadata": {},
   "outputs": [
    {
     "data": {
      "text/plain": [
       "[(54004, 1), (54005, 1), (54006, 1), (54007, 1), (54008, 1)]"
      ]
     },
     "execution_count": 15,
     "metadata": {},
     "output_type": "execute_result"
    }
   ],
   "source": [
    "ordersRDD = sc.textFile(inputPath + \"/orders\")\n",
    "orRDD = ordersRDD.filter(lambda x : month in x.split(\",\")[1])\n",
    "#orRDD.take(5)\n",
    "orRDD = orRDD.map(lambda x : (int(x.split(\",\")[0]),1))\n",
    "orRDD.take(5)"
   ]
  },
  {
   "cell_type": "code",
   "execution_count": 24,
   "metadata": {},
   "outputs": [
    {
     "data": {
      "text/plain": [
       "[(1004, 457), (564, 13), (276, 20), (728, 5), (792, 5)]"
      ]
     },
     "execution_count": 24,
     "metadata": {},
     "output_type": "execute_result"
    }
   ],
   "source": [
    "orderItems = sc.textFile(inputPath + \"/order_items\")\n",
    "orItRDD = orderItems.map(lambda x : (int(x.split(\",\")[0]), int(x.split(\",\")[2]), float(x.split(\",\")[4]) ))\n",
    "orItRDD = orItRDD.join(orRDD)\n",
    "orItRDD = orItRDD.map(lambda x : x[1])\n",
    "orItRDD = orItRDD.reduceByKey(lambda x,y : x+y)\n",
    "orItRDD.take(5)"
   ]
  },
  {
   "cell_type": "code",
   "execution_count": null,
   "metadata": {},
   "outputs": [],
   "source": []
  }
 ],
 "metadata": {
  "kernelspec": {
   "display_name": "Python 3",
   "language": "python",
   "name": "python3"
  },
  "language_info": {
   "codemirror_mode": {
    "name": "ipython",
    "version": 3
   },
   "file_extension": ".py",
   "mimetype": "text/x-python",
   "name": "python",
   "nbconvert_exporter": "python",
   "pygments_lexer": "ipython3",
   "version": "3.7.4"
  }
 },
 "nbformat": 4,
 "nbformat_minor": 2
}
